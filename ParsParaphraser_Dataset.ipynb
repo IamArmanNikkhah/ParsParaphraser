{
  "cells": [
    {
      "cell_type": "markdown",
      "metadata": {
        "id": "view-in-github",
        "colab_type": "text"
      },
      "source": [
        "<a href=\"https://colab.research.google.com/github/IamArmanNikkhah/ParsParaphraser/blob/main/ParsParaphraser_Dataset.ipynb\" target=\"_parent\"><img src=\"https://colab.research.google.com/assets/colab-badge.svg\" alt=\"Open In Colab\"/></a>"
      ]
    },
    {
      "cell_type": "markdown",
      "metadata": {
        "id": "RTWFnRXIfw6a"
      },
      "source": [
        "# Downloading the PARANMT-50M Dataset ☁"
      ]
    },
    {
      "cell_type": "markdown",
      "metadata": {
        "id": "Jrw24IwYsA5p"
      },
      "source": [
        "**Download the PARANMT-50M dataset**"
      ]
    },
    {
      "cell_type": "code",
      "execution_count": null,
      "metadata": {
        "id": "cvaRyY93rvcF"
      },
      "outputs": [],
      "source": [
        "!gdown --id 1rbF3daJjCsa1-fu2GANeJd2FBXos1ugD"
      ]
    },
    {
      "cell_type": "markdown",
      "metadata": {
        "id": "9S9dkXhhsYQe"
      },
      "source": [
        "**Unzipping the Dataset**"
      ]
    },
    {
      "cell_type": "code",
      "execution_count": null,
      "metadata": {
        "id": "ryLB5vyHsXzX"
      },
      "outputs": [],
      "source": [
        "import zipfile\n",
        "\n",
        "def unzip(zip_file, destination):\n",
        "    with zipfile.ZipFile(zip_file, 'r') as zip_ref:\n",
        "        zip_ref.extractall(destination)\n",
        "\n",
        "unzip('/content/data/para-nmt-50m.zip', '/content/data')"
      ]
    },
    {
      "cell_type": "markdown",
      "metadata": {
        "id": "mnQsaNAHvIjy"
      },
      "source": [
        "**Displaying The dataset**"
      ]
    },
    {
      "cell_type": "code",
      "execution_count": null,
      "metadata": {
        "id": "2yDM_JBvtIkl"
      },
      "outputs": [],
      "source": [
        "def display_large_file(filename, line_num):\n",
        "    \"\"\"\n",
        "    Display a large file.\n",
        "    \"\"\"\n",
        "    with open(filename, 'r') as f:\n",
        "        line_counter = 0\n",
        "        for line in f:\n",
        "            if line_counter > line_num:\n",
        "              break\n",
        "            print(line)\n",
        "            line_counter +=1\n",
        "\n",
        "display_large_file('/content/data/para-nmt-50m/para-nmt-50m.txt',5)"
      ]
    },
    {
      "cell_type": "markdown",
      "metadata": {
        "id": "I5SmGCXr0Po0"
      },
      "source": [
        "**Converting to CSV**"
      ]
    },
    {
      "cell_type": "code",
      "execution_count": null,
      "metadata": {
        "id": "3C4temHcDcuF"
      },
      "outputs": [],
      "source": [
        "import re\n",
        "\n",
        "def remove_lines(file_name, pattern):\n",
        "    with open(file_name, 'r') as f:\n",
        "        lines = f.readlines()\n",
        "    with open(file_name, 'w') as f:\n",
        "        for line in lines:\n",
        "            if len(re.findall(pattern, line)) == 2:\n",
        "                f.write(line)"
      ]
    },
    {
      "cell_type": "code",
      "execution_count": null,
      "metadata": {
        "id": "K4XdSZjEDsc6"
      },
      "outputs": [],
      "source": [
        "remove_lines('/content/data/para-nmt-50m/para-nmt-50m.txt', '[.?\"]\\t[\"\\d\\w]')"
      ]
    },
    {
      "cell_type": "markdown",
      "metadata": {
        "id": "Fbh8YNz-7PR4"
      },
      "source": [
        "**Download from Google Drive**"
      ]
    },
    {
      "cell_type": "code",
      "execution_count": null,
      "metadata": {
        "colab": {
          "base_uri": "https://localhost:8080/"
        },
        "id": "22rbYCDd7Onr",
        "outputId": "74ed48bf-265d-46a5-be7f-b13168420b24"
      },
      "outputs": [
        {
          "output_type": "stream",
          "name": "stdout",
          "text": [
            "Mounted at /content/drive\n"
          ]
        }
      ],
      "source": [
        "from google.colab import drive\n",
        "drive.mount('/content/drive')"
      ]
    },
    {
      "cell_type": "markdown",
      "metadata": {
        "id": "q__R8NE6f30w"
      },
      "source": [
        "# Preprocessing PARANMT-50M Dataset ➰"
      ]
    },
    {
      "cell_type": "code",
      "execution_count": null,
      "metadata": {
        "id": "kpvtFhQ4HmX4"
      },
      "outputs": [],
      "source": [
        "import pandas as pd\n",
        "import numpy as np"
      ]
    },
    {
      "cell_type": "markdown",
      "metadata": {
        "id": "sJ4qhZVGgCCo"
      },
      "source": [
        "**1)Finding empty cells  in each row**"
      ]
    },
    {
      "cell_type": "code",
      "execution_count": null,
      "metadata": {
        "id": "nRtLSwc1f74o"
      },
      "outputs": [],
      "source": [
        "def empty_cells(df):\n",
        "    \"\"\"\n",
        "    Returns a list of columns with empty cells and the number of them\n",
        "    \"\"\"\n",
        "    empty_cells = []\n",
        "    for col in df.columns:\n",
        "        if df[col].isnull().sum() > 0:\n",
        "            empty_cells.append((col, df[col].isnull().sum()))\n",
        "    return empty_cells\n",
        "\n",
        "for chunk in pd.read_csv('/content/data/para-nmt-50m/para-nmt-50m.csv', chunksize=5000000):\n",
        "  print(empty_cells(chunk))"
      ]
    },
    {
      "cell_type": "markdown",
      "metadata": {
        "id": "ofjFB60QhbES"
      },
      "source": [
        "**2)Droping rows with empty cells**"
      ]
    },
    {
      "cell_type": "code",
      "execution_count": null,
      "metadata": {
        "id": "y3JfiV-ohae2"
      },
      "outputs": [],
      "source": [
        "def drop_empty_rows(df, column):\n",
        "    return df.dropna(subset=[column])\n",
        "\n",
        "for chunk in pd.read_csv('/content/data/para-nmt-50m/para-nmt-50m.csv', chunksize=5000000):\n",
        "  drop_empty_rows(chunk, 'Similarity score')"
      ]
    },
    {
      "cell_type": "markdown",
      "metadata": {
        "id": "18By5J6XElh3"
      },
      "source": [
        "**3) Droping Rows which their last column's cell isn't a number**"
      ]
    },
    {
      "cell_type": "code",
      "execution_count": null,
      "metadata": {
        "id": "ww3s0MiCna6E"
      },
      "outputs": [],
      "source": [
        "def is_number(s):\n",
        "    try:\n",
        "        float(s)\n",
        "        return True\n",
        "    except ValueError:\n",
        "        return False\n",
        "\n",
        "def get_rows_with_digits(df):\n",
        "    return df[df.apply(lambda x: x[0].isdigit() or x[1].isdigit(), axis=1)]\n",
        "\n",
        "def get_non_numeric_rows(df):\n",
        "    return df[df.apply(lambda x: not is_number(x[-1]), axis=1)].index\n",
        "\n",
        "\n",
        "for chunk in pd.read_csv('/content/data/para-nmt-50m/para-nmt-50m.csv', chunksize=1000000):\n",
        "  chunk = chunk.drop(get_non_numeric_rows(chunk), inplace=False)\n",
        "  chunk.to_csv('/content/data/para-nmt-50m/para-nmt-50m-preprocessed.csv',  index = None, mode='a')"
      ]
    },
    {
      "cell_type": "markdown",
      "metadata": {
        "id": "0DwXvzz8HElt"
      },
      "source": [
        "**4) Selecting Rows with high similarity score**"
      ]
    },
    {
      "cell_type": "code",
      "execution_count": null,
      "metadata": {
        "id": "affkjAbdHEXZ"
      },
      "outputs": [],
      "source": [
        "def drop_empty_rows(df, column):\n",
        "    return df.dropna(subset=[column])\n",
        "\n",
        "def get_rows_with_high_score(df, threshold = 0.85):\n",
        "    return df[df['Similarity score'] > threshold]\n",
        "\n",
        "def get_rows_with_last_column_greater_than_0_85_and_less_than_one(df):\n",
        "    return df[(df.iloc[:,-1] > 0.85) & (df.iloc[:,-1] < 1)]\n",
        "\n",
        "for chunk in pd.read_csv('/content/ParsParaphraser/para-nmt-50m-preprocessed.csv', chunksize=5000000):\n",
        "    chunk.iloc[:, -1] = chunk.iloc[:, -1].replace('Similarity score', '0')\n",
        "    chunk.iloc[:,-1]  = chunk.iloc[:,-1].astype(float)\n",
        "    chunk = get_rows_with_last_column_greater_than_0_85_and_less_than_one(chunk)\n",
        "    chunk.to_csv('/content/ParsParaphraser/para-nmt-final.csv',  index = None, mode='a')"
      ]
    },
    {
      "cell_type": "markdown",
      "metadata": {
        "id": "UDxcNhlCUC-b"
      },
      "source": [
        "**5) Load the dataframe into memory**"
      ]
    },
    {
      "cell_type": "code",
      "execution_count": null,
      "metadata": {
        "id": "SAslwosxUDS6"
      },
      "outputs": [],
      "source": [
        "df = pd.read_csv('/content/drive/MyDrive/ParsParaphraser/para-nmt-final.csv')"
      ]
    },
    {
      "cell_type": "markdown",
      "metadata": {
        "id": "bfoZiIVQgzxe"
      },
      "source": [
        "**6) Removing rows with '0.' in them**"
      ]
    },
    {
      "cell_type": "code",
      "execution_count": null,
      "metadata": {
        "id": "jGp9BetOswS5"
      },
      "outputs": [],
      "source": [
        "import re\n",
        "def check_string(string):\n",
        "    if re.search(r'0\\.[0-9]', string):\n",
        "        return False\n",
        "    else:\n",
        "        return True"
      ]
    },
    {
      "cell_type": "code",
      "execution_count": null,
      "metadata": {
        "id": "rgrAsCWnptT_"
      },
      "outputs": [],
      "source": [
        "df = df[df['Sentence'].apply(check_string) & df['Paraphrase'].apply(check_string)]"
      ]
    },
    {
      "cell_type": "markdown",
      "metadata": {
        "id": "CkS2xfi2LihB"
      },
      "source": [
        "**7) Calculating word diffrence**"
      ]
    },
    {
      "cell_type": "code",
      "execution_count": null,
      "metadata": {
        "id": "1i_rgk62Lg2M"
      },
      "outputs": [],
      "source": [
        "def diff_words(str1, str2):\n",
        "    str1_words = str1.split()\n",
        "    str2_words = str2.split()\n",
        "    return abs(len(str1_words) - len(str2_words))"
      ]
    },
    {
      "cell_type": "code",
      "execution_count": null,
      "metadata": {
        "id": "VCK5lju6K8Bo"
      },
      "outputs": [],
      "source": [
        "df['length diff'] = df.apply(lambda row: diff_words(row['Sentence'], row['Paraphrase']), axis=1)"
      ]
    },
    {
      "cell_type": "markdown",
      "metadata": {
        "id": "kAUJNgdKzvC0"
      },
      "source": [
        "**8) Finding outliers in length diffrence**"
      ]
    },
    {
      "cell_type": "code",
      "execution_count": null,
      "metadata": {
        "colab": {
          "base_uri": "https://localhost:8080/"
        },
        "id": "ex5UpDTuAZgW",
        "outputId": "c743e9c4-63ec-4709-ae84-d5c8bebccf77"
      },
      "outputs": [
        {
          "data": {
            "text/plain": [
              "1.5001102174196121"
            ]
          },
          "execution_count": 8,
          "metadata": {},
          "output_type": "execute_result"
        }
      ],
      "source": [
        "df['length diff'].mean()"
      ]
    },
    {
      "cell_type": "code",
      "execution_count": null,
      "metadata": {
        "colab": {
          "base_uri": "https://localhost:8080/"
        },
        "id": "U1u7a6HY9xH1",
        "outputId": "dac85d0b-4234-4fea-d717-06a2d029f477"
      },
      "outputs": [
        {
          "data": {
            "text/plain": [
              "2.5684722989195357"
            ]
          },
          "execution_count": 9,
          "metadata": {},
          "output_type": "execute_result"
        }
      ],
      "source": [
        "df['length diff'].std()"
      ]
    },
    {
      "cell_type": "code",
      "execution_count": null,
      "metadata": {
        "id": "Di6ZHhoI6pB2"
      },
      "outputs": [],
      "source": [
        "import matplotlib.pyplot as plt\n",
        "df.boxplot(column=['length diff'])\n",
        "plt.show()"
      ]
    },
    {
      "cell_type": "code",
      "execution_count": null,
      "metadata": {
        "id": "e4iWqELTzzPe"
      },
      "outputs": [],
      "source": [
        "def find_outliners(df, col):\n",
        "    q1 = df[col].quantile(0.25)\n",
        "    q3 = df[col].quantile(0.75)\n",
        "    iqr = q3 - q1\n",
        "    lower_bound = q1 - (1.5 * iqr)\n",
        "    upper_bound = q3 + (1.5 * iqr)\n",
        "    return df[(df[col] < lower_bound) | (df[col] > upper_bound)]\n",
        "\n",
        "df.drop(find_outliners(df, 'length diff').index.tolist(),  inplace=True)"
      ]
    },
    {
      "cell_type": "code",
      "execution_count": null,
      "metadata": {
        "colab": {
          "base_uri": "https://localhost:8080/",
          "height": 265
        },
        "id": "4w0JIqFTHD55",
        "outputId": "d190d346-7e26-4ed2-851b-b1e5b6b966a7"
      },
      "outputs": [
        {
          "data": {
            "image/png": "[encoded data removed]",
            "text/plain": [
              "<Figure size 432x288 with 1 Axes>"
            ]
          },
          "metadata": {},
          "output_type": "display_data"
        }
      ],
      "source": [
        "df.boxplot(column=['length diff'])\n",
        "plt.show()"
      ]
    },
    {
      "cell_type": "code",
      "execution_count": null,
      "metadata": {
        "colab": {
          "base_uri": "https://localhost:8080/",
          "height": 276
        },
        "id": "IySiiDkBOZBj",
        "outputId": "bce4ee59-d394-49fa-f7bd-3d1ee6353d75"
      },
      "outputs": [
        {
          "data": {
            "image/png": "[encoded data removed]",
            "text/plain": [
              "<Figure size 432x288 with 1 Axes>"
            ]
          },
          "metadata": {},
          "output_type": "display_data"
        }
      ],
      "source": [
        "df['length diff'].plot(kind='hist')\n",
        "plt.show()"
      ]
    },
    {
      "cell_type": "markdown",
      "metadata": {
        "id": "aFF_APdkIlDN"
      },
      "source": [
        "**9) Remove rows with a high ratio of numbers**"
      ]
    },
    {
      "cell_type": "code",
      "execution_count": null,
      "metadata": {
        "id": "NmOiFg17uvHq"
      },
      "outputs": [],
      "source": [
        "def ratio(string):\n",
        "    num = 0\n",
        "    for i in string:\n",
        "        if i.isdigit():\n",
        "            num += 1\n",
        "    percent = num / len(string)\n",
        "    return percent\n",
        "\n",
        "df['average num ratio'] = df.apply(lambda row: (ratio(row['Sentence']) + ratio(row['Paraphrase']))/2, axis=1)"
      ]
    },
    {
      "cell_type": "code",
      "execution_count": null,
      "metadata": {
        "colab": {
          "base_uri": "https://localhost:8080/"
        },
        "id": "okULazCkK_P2",
        "outputId": "1599c000-da89-4f65-8441-32288cc5cee4"
      },
      "outputs": [
        {
          "data": {
            "text/plain": [
              "0.005428928755714689"
            ]
          },
          "execution_count": 12,
          "metadata": {},
          "output_type": "execute_result"
        }
      ],
      "source": [
        "df['average num ratio'].mean()"
      ]
    },
    {
      "cell_type": "code",
      "execution_count": null,
      "metadata": {
        "colab": {
          "base_uri": "https://localhost:8080/"
        },
        "id": "kkPf0ZsuLByk",
        "outputId": "9aadfbd3-5d6b-4272-b580-7caf9d129850"
      },
      "outputs": [
        {
          "data": {
            "text/plain": [
              "0.023538055197032864"
            ]
          },
          "execution_count": 13,
          "metadata": {},
          "output_type": "execute_result"
        }
      ],
      "source": [
        "df['average num ratio'].std()"
      ]
    },
    {
      "cell_type": "code",
      "execution_count": null,
      "metadata": {
        "id": "t1aZ0ljKHe9y"
      },
      "outputs": [],
      "source": [
        "df = df[df.iloc[:,-1]<=0.06]"
      ]
    },
    {
      "cell_type": "markdown",
      "metadata": {
        "id": "PGjKPnhXMI3I"
      },
      "source": [
        "**10) Remove rows with a high ratio of capital letters**"
      ]
    },
    {
      "cell_type": "code",
      "source": [
        "df.drop('average capital ratio',axis=1,inplace=True)"
      ],
      "metadata": {
        "id": "SmeR-S72B18U"
      },
      "execution_count": null,
      "outputs": []
    },
    {
      "cell_type": "code",
      "execution_count": null,
      "metadata": {
        "id": "bOLMXM0mMU3w"
      },
      "outputs": [],
      "source": [
        "def count_capital_words(text):\n",
        "    count = 0\n",
        "    words = text.split()\n",
        "    for word in words[1:]:\n",
        "        if word[0].isupper():\n",
        "            count += 1\n",
        "    return count/len(text)\n",
        "\n",
        "df['average capital ratio'] = df.apply(lambda row: (count_capital_words(row['Sentence']) + count_capital_words(row['Paraphrase']))/2, axis=1)"
      ]
    },
    {
      "cell_type": "code",
      "execution_count": null,
      "metadata": {
        "colab": {
          "base_uri": "https://localhost:8080/"
        },
        "id": "Ygyty5YP-IKo",
        "outputId": "ce187862-4e17-407a-cc9e-85cd456ba443"
      },
      "outputs": [
        {
          "output_type": "execute_result",
          "data": {
            "text/plain": [
              "0.014499879747877501"
            ]
          },
          "metadata": {},
          "execution_count": 29
        }
      ],
      "source": [
        "df['average capital ratio'].mean()"
      ]
    },
    {
      "cell_type": "code",
      "execution_count": null,
      "metadata": {
        "colab": {
          "base_uri": "https://localhost:8080/"
        },
        "id": "vKl5E7uG-OVM",
        "outputId": "c26df2d5-9b0b-4d17-f1cf-c3d75686f85d"
      },
      "outputs": [
        {
          "output_type": "execute_result",
          "data": {
            "text/plain": [
              "0.021607094092546394"
            ]
          },
          "metadata": {},
          "execution_count": 30
        }
      ],
      "source": [
        "df['average capital ratio'].std()"
      ]
    },
    {
      "cell_type": "code",
      "source": [
        "df.drop(find_outliners(df, 'average capital ratio').index.tolist(),  inplace=True)"
      ],
      "metadata": {
        "id": "Ae9c5vQKFwON"
      },
      "execution_count": null,
      "outputs": []
    },
    {
      "cell_type": "markdown",
      "source": [
        "**11) Remove Rows with high number of words**\n"
      ],
      "metadata": {
        "id": "n9kjZ2ABGDsR"
      }
    },
    {
      "cell_type": "code",
      "source": [
        "def count_words(string):\n",
        "    return len(string.split())\n",
        "\n",
        "df['average word count'] = df.apply(lambda row: (count_words(row['Sentence']) + count_words(row['Paraphrase']))/2, axis=1)"
      ],
      "metadata": {
        "id": "cDHiXxrwGDVt"
      },
      "execution_count": null,
      "outputs": []
    },
    {
      "cell_type": "code",
      "source": [
        "df['average word count'].mean()"
      ],
      "metadata": {
        "colab": {
          "base_uri": "https://localhost:8080/"
        },
        "id": "-iZ664BqH8dp",
        "outputId": "0afa4927-4449-4d67-aef8-ed6df0567fe6"
      },
      "execution_count": null,
      "outputs": [
        {
          "output_type": "execute_result",
          "data": {
            "text/plain": [
              "11.806914692479884"
            ]
          },
          "metadata": {},
          "execution_count": 35
        }
      ]
    },
    {
      "cell_type": "code",
      "source": [
        "df['average word count'].std()"
      ],
      "metadata": {
        "colab": {
          "base_uri": "https://localhost:8080/"
        },
        "id": "rFrnbW4FIAU5",
        "outputId": "ccd088bc-a008-4f78-d9d1-d724a9fc9dd7"
      },
      "execution_count": null,
      "outputs": [
        {
          "output_type": "execute_result",
          "data": {
            "text/plain": [
              "11.844624529527998"
            ]
          },
          "metadata": {},
          "execution_count": 36
        }
      ]
    },
    {
      "cell_type": "code",
      "source": [
        "df.boxplot(column=['average word count'])\n",
        "plt.show()"
      ],
      "metadata": {
        "colab": {
          "base_uri": "https://localhost:8080/",
          "height": 265
        },
        "id": "r9ZuEJoWIO7m",
        "outputId": "0c9a03db-1ea3-47ab-ad50-350231ec1cf2"
      },
      "execution_count": null,
      "outputs": [
        {
          "output_type": "display_data",
          "data": {
            "text/plain": [
              "<Figure size 432x288 with 1 Axes>"
            ],
            "image/png": "[encoded data removed]"
          },
          "metadata": {
            "needs_background": "light"
          }
        }
      ]
    },
    {
      "cell_type": "code",
      "source": [
        "df.drop(find_outliners(df, 'average word count').index.tolist(),  inplace=True)"
      ],
      "metadata": {
        "id": "aVy4qaykJeez"
      },
      "execution_count": null,
      "outputs": []
    },
    {
      "cell_type": "markdown",
      "source": [
        "**12) Removing Special charecters**"
      ],
      "metadata": {
        "id": "ZN9nBJ2rKFqt"
      }
    },
    {
      "cell_type": "code",
      "source": [
        "def remove_special_characters(string):\n",
        "    return re.sub(r'[^\\w\\s.:,\\']', '', string)\n",
        "\n",
        "df.iloc[:,0] = df.iloc[:,0].apply(remove_special_characters)\n",
        "df.iloc[:,1] = df.iloc[:,1].apply(remove_special_characters)"
      ],
      "metadata": {
        "id": "xapXiOsdK6hh"
      },
      "execution_count": null,
      "outputs": []
    },
    {
      "cell_type": "markdown",
      "source": [
        "**13) Removing rows contain non english words**"
      ],
      "metadata": {
        "id": "mxFYycfQPUR0"
      }
    },
    {
      "cell_type": "code",
      "source": [
        "def isEnglish(s):\n",
        "    try:\n",
        "        s.encode(encoding='utf-8').decode('ascii')\n",
        "    except UnicodeDecodeError:\n",
        "        return False\n",
        "    else:\n",
        "        return True\n",
        "\n",
        "df = df[df['Sentence'].apply(isEnglish) & df['Paraphrase'].apply(isEnglish)]"
      ],
      "metadata": {
        "id": "zVmTONo-S_Og"
      },
      "execution_count": null,
      "outputs": []
    },
    {
      "cell_type": "markdown",
      "source": [
        "**Save the results**"
      ],
      "metadata": {
        "id": "eJg3va6xVmsa"
      }
    },
    {
      "cell_type": "code",
      "source": [
        "df.to_csv('/content/para-nmt-train.csv', index=False)"
      ],
      "metadata": {
        "id": "GdcmV9myVnFT"
      },
      "execution_count": null,
      "outputs": []
    },
    {
      "cell_type": "markdown",
      "source": [
        "# Downloading the Opusparcus Dataset ⏸"
      ],
      "metadata": {
        "id": "kdLJWuZ4SUEJ"
      }
    },
    {
      "cell_type": "code",
      "source": [
        "import pandas as pd"
      ],
      "metadata": {
        "id": "Ysj1GGU-ZfD2"
      },
      "execution_count": null,
      "outputs": []
    },
    {
      "cell_type": "code",
      "source": [
        "!wget https://korp.csc.fi/download/opusparcus/opusparcus_en.zip"
      ],
      "metadata": {
        "id": "NL9cpb-vSo61"
      },
      "execution_count": null,
      "outputs": []
    },
    {
      "cell_type": "markdown",
      "source": [
        "**Unzip Files**"
      ],
      "metadata": {
        "id": "ra7vkuXPcEHx"
      }
    },
    {
      "cell_type": "code",
      "source": [
        "unzip('/content/opusparcus_en.zip', '/content/data')"
      ],
      "metadata": {
        "id": "SePHEi4LSx5Q"
      },
      "execution_count": null,
      "outputs": []
    },
    {
      "cell_type": "code",
      "source": [
        "import bz2\n",
        "\n",
        "def bz2_uncompress(infile, outfile):\n",
        "    \"\"\"\n",
        "    Uncompress a bz2 file.\n",
        "    \"\"\"\n",
        "    with bz2.open(infile, 'rb') as infile:\n",
        "        with open(outfile, 'wb') as outfile:\n",
        "            outfile.write(infile.read())\n",
        "\n",
        "bz2_uncompress('/content/data/opusparcus_v1/en/train/en-train.txt.bz2', '/content/data/opusparcus_v1/en/train/train.txt')"
      ],
      "metadata": {
        "id": "Dnwo5VaRUJFm"
      },
      "execution_count": null,
      "outputs": []
    },
    {
      "cell_type": "code",
      "source": [
        "display_large_file('/content/data/opusparcus_v1/en/train/train.txt', 100)"
      ],
      "metadata": {
        "id": "7lWKOtUoVYPi"
      },
      "execution_count": null,
      "outputs": []
    },
    {
      "cell_type": "markdown",
      "source": [
        "**Load as a dataframe ⏬**"
      ],
      "metadata": {
        "id": "DPxpod61cH7M"
      }
    },
    {
      "cell_type": "code",
      "source": [
        "df = pd.read_csv('/content/data/opusparcus_v1/en/train/train.txt', sep='\\t', header=None)\n",
        "df.columns = ['indx','Sentence', 'Paraphrase', 'col_0', 'col_1', 'col_2', 'col_3']"
      ],
      "metadata": {
        "id": "A69k_i0wXnRr"
      },
      "execution_count": null,
      "outputs": []
    },
    {
      "cell_type": "code",
      "source": [
        "df.drop(['indx', 'col_0', 'col_1', 'col_2', 'col_3'], axis = 1 , inplace=True)"
      ],
      "metadata": {
        "id": "uwAGJjDQavYj"
      },
      "execution_count": null,
      "outputs": []
    },
    {
      "cell_type": "markdown",
      "source": [
        "**Remove rows with a high ratio of numbers**"
      ],
      "metadata": {
        "id": "ZzGNJZT1cNQS"
      }
    },
    {
      "cell_type": "code",
      "source": [
        "df['average num ratio'] = df.apply(lambda row: (ratio(row['Sentence']) + ratio(row['Paraphrase']))/2, axis=1)"
      ],
      "metadata": {
        "id": "P57TtcSGcjg7"
      },
      "execution_count": null,
      "outputs": []
    },
    {
      "cell_type": "code",
      "source": [
        "df['average num ratio'].mean()"
      ],
      "metadata": {
        "colab": {
          "base_uri": "https://localhost:8080/"
        },
        "id": "GwxJxTbhc7oK",
        "outputId": "dcd7d2fa-d7e9-4a93-d6f8-6f81ef5b2340"
      },
      "execution_count": null,
      "outputs": [
        {
          "output_type": "execute_result",
          "data": {
            "text/plain": [
              "0.0006485831438003348"
            ]
          },
          "metadata": {},
          "execution_count": 13
        }
      ]
    },
    {
      "cell_type": "code",
      "source": [
        "df['average num ratio'].std()"
      ],
      "metadata": {
        "colab": {
          "base_uri": "https://localhost:8080/"
        },
        "id": "AvWMEnsadS_O",
        "outputId": "0d1afe52-5179-425f-a810-0845aaf879b5"
      },
      "execution_count": null,
      "outputs": [
        {
          "output_type": "execute_result",
          "data": {
            "text/plain": [
              "0.010614393239631842"
            ]
          },
          "metadata": {},
          "execution_count": 14
        }
      ]
    },
    {
      "cell_type": "code",
      "source": [
        "df = df[df.iloc[:,-1]<=0.02]"
      ],
      "metadata": {
        "id": "C1DR-F7XdV_z"
      },
      "execution_count": null,
      "outputs": []
    },
    {
      "cell_type": "markdown",
      "source": [
        "**Remove Rows with high number of words**"
      ],
      "metadata": {
        "id": "DlvYN36xdnQj"
      }
    },
    {
      "cell_type": "code",
      "source": [
        "df['average word count'] = df.apply(lambda row: (count_words(row['Sentence']) + count_words(row['Paraphrase']))/2, axis=1)"
      ],
      "metadata": {
        "id": "9AkkmCSPdxgN"
      },
      "execution_count": null,
      "outputs": []
    },
    {
      "cell_type": "code",
      "source": [
        "df['average word count'].mean()"
      ],
      "metadata": {
        "id": "P7_HqoZPeFyu"
      },
      "execution_count": null,
      "outputs": []
    },
    {
      "cell_type": "code",
      "source": [
        "df['average word count'].std()"
      ],
      "metadata": {
        "id": "Gg69MSWQeGrB"
      },
      "execution_count": null,
      "outputs": []
    },
    {
      "cell_type": "markdown",
      "source": [
        "# Downloading the Paralex Dataset ✊"
      ],
      "metadata": {
        "id": "FldjlAh26gvT"
      }
    },
    {
      "cell_type": "code",
      "source": [
        "!wget http://knowitall.cs.washington.edu/paralex/wikianswers-paraphrases-1.0.tar.gz"
      ],
      "metadata": {
        "id": "eWafN8dU6rNE"
      },
      "execution_count": null,
      "outputs": []
    },
    {
      "cell_type": "markdown",
      "source": [
        "**Uncompress tar.gz file**"
      ],
      "metadata": {
        "id": "2EPUEPMN7K6H"
      }
    },
    {
      "cell_type": "code",
      "source": [
        "import tarfile\n",
        "import os\n",
        "\n",
        "def uncompress_tar(file_name, output_dir):\n",
        "    tar = tarfile.open(file_name)\n",
        "    tar.extractall(path=output_dir)\n",
        "    tar.close()\n",
        "\n",
        "uncompress_tar('/content/wikianswers-paraphrases-1.0.tar.gz', '/content')"
      ],
      "metadata": {
        "id": "3jrvyE5d7KhK"
      },
      "execution_count": null,
      "outputs": []
    },
    {
      "cell_type": "code",
      "source": [
        "display_large_file('/content/wikianswers-paraphrases-1.0/word_alignments.txt',100)"
      ],
      "metadata": {
        "id": "nz-eO85F8ZYy"
      },
      "execution_count": null,
      "outputs": []
    },
    {
      "cell_type": "markdown",
      "source": [
        "**Load as a dataframe**"
      ],
      "metadata": {
        "id": "W3Nt41YZ9Ktj"
      }
    },
    {
      "cell_type": "code",
      "source": [
        "df = pd.read_csv('/content/wikianswers-paraphrases-1.0/word_alignments.txt', sep='\\t', header=None)\n",
        "df.columns = ['Sentence', 'Paraphrase', 'alignment']"
      ],
      "metadata": {
        "id": "YVbJZAZK9M1M"
      },
      "execution_count": null,
      "outputs": []
    },
    {
      "cell_type": "code",
      "source": [
        "df.drop(['alignment'],axis=1,inplace=True)"
      ],
      "metadata": {
        "id": "V7TwdvoS_tIF"
      },
      "execution_count": null,
      "outputs": []
    },
    {
      "cell_type": "markdown",
      "source": [
        "**Removing special charactars**"
      ],
      "metadata": {
        "id": "xeHmoIDW-mEr"
      }
    },
    {
      "cell_type": "code",
      "source": [
        "import re\n",
        "def remove_special_characters(string):\n",
        "    return re.sub(r'[^\\w\\s.:,?\\']', '', string)\n",
        "\n",
        "df.iloc[:,0] = df.iloc[:,0].apply(remove_special_characters)\n",
        "df.iloc[:,1] = df.iloc[:,1].apply(remove_special_characters)"
      ],
      "metadata": {
        "id": "X6xmXCE7-kIY"
      },
      "execution_count": null,
      "outputs": []
    },
    {
      "cell_type": "markdown",
      "source": [
        "**Removing rows containing non-englisg words**"
      ],
      "metadata": {
        "id": "nBKd9qq0_Zma"
      }
    },
    {
      "cell_type": "code",
      "source": [
        "df = df[df['Sentence'].apply(isEnglish) & df['Paraphrase'].apply(isEnglish)]"
      ],
      "metadata": {
        "id": "iv8x78Zw_YRb"
      },
      "execution_count": null,
      "outputs": []
    },
    {
      "cell_type": "markdown",
      "source": [
        "**Chunking the dataframe ⛏**"
      ],
      "metadata": {
        "id": "ET6yQO3oDuRc"
      }
    },
    {
      "cell_type": "code",
      "source": [
        "def chunk_df(df, n):\n",
        "    \"\"\"\n",
        "    Chunk a dataframe into n equal parts.\n",
        "    \"\"\"\n",
        "    return [df.iloc[i::n, :] for i in range(n)]\n",
        "\n",
        "chunked_df = chunk_df(df, 10)"
      ],
      "metadata": {
        "id": "QdU5IepvD2yk"
      },
      "execution_count": null,
      "outputs": []
    },
    {
      "cell_type": "code",
      "source": [
        "chunked_df[0].to_csv('/content/paralex_0.csv')"
      ],
      "metadata": {
        "id": "EjsQRKhxFGme"
      },
      "execution_count": null,
      "outputs": []
    },
    {
      "cell_type": "markdown",
      "metadata": {
        "id": "VR8C1pVGNo-2"
      },
      "source": [
        "# Translating"
      ]
    },
    {
      "cell_type": "code",
      "execution_count": null,
      "metadata": {
        "id": "IMM9EfqoNsow"
      },
      "outputs": [],
      "source": [
        "!pip install googletrans==3.1.0a0"
      ]
    },
    {
      "cell_type": "code",
      "execution_count": null,
      "metadata": {
        "id": "9yi7_5TYN7zI"
      },
      "outputs": [],
      "source": [
        "from googletrans import Translator\n",
        "#translator = Translator()\n",
        "\n",
        "def translate(text):\n",
        "  translator = Translator()\n",
        "  translation = translator.translate(text, dest='fa')\n",
        "  return translation.text"
      ]
    },
    {
      "cell_type": "code",
      "execution_count": null,
      "metadata": {
        "colab": {
          "base_uri": "https://localhost:8080/",
          "height": 35
        },
        "id": "CCEuGbWSQIfl",
        "outputId": "1f3f277a-7471-4b76-a19f-26deb2ea6639"
      },
      "outputs": [
        {
          "data": {
            "application/vnd.google.colaboratory.intrinsic+json": {
              "type": "string"
            },
            "text/plain": [
              "'آسمان آبی است و من موز را دوست دارم'"
            ]
          },
          "execution_count": 16,
          "metadata": {},
          "output_type": "execute_result"
        }
      ],
      "source": [
        "translate(\"Der Himmel ist blau und ich mag Bananen\")"
      ]
    },
    {
      "cell_type": "code",
      "execution_count": null,
      "metadata": {
        "colab": {
          "background_save": true
        },
        "id": "xS1C7MQlQw82"
      },
      "outputs": [],
      "source": [
        "import multiprocessing as mp\n",
        "\n",
        "def apply_func(df, func=translate):\n",
        "    df.iloc[:,0] = df.iloc[:,0].apply(func)\n",
        "    df.iloc[:,1] = df.iloc[:,1].apply(func)\n",
        "    return df\n",
        "\n",
        "def parallelize_dataframe(df, func):\n",
        "    df_split = np.array_split(df, num_partitions)\n",
        "    pool = mp.Pool(num_cores)\n",
        "    df = pd.concat(pool.map(func, df_split))\n",
        "    pool.close()\n",
        "    pool.join()\n",
        "    return df\n",
        "\n",
        "num_partitions = 2 #number of partitions to split dataframe\n",
        "num_cores = 2 #number of cores on your machine\n",
        "\n",
        "for chunk in pd.read_csv('/content/data/para-nmt-50m/para-nmt-50m-preprocessed.csv', chunksize=100):\n",
        "  chunk_parallelized = parallelize_dataframe(chunk, apply_func)\n",
        "  chunk_parallelized.to_csv('/content/data/para-nmt-50m/para-nmt-50m-translated.csv',  index = None, mode='a')"
      ]
    },
    {
      "cell_type": "markdown",
      "metadata": {
        "id": "ADaJGQIa0e3Y"
      },
      "source": [
        "# GitHub"
      ]
    },
    {
      "cell_type": "markdown",
      "metadata": {
        "id": "pJDwUIo11atX"
      },
      "source": [
        "**Generating SSH key**"
      ]
    },
    {
      "cell_type": "code",
      "execution_count": null,
      "metadata": {
        "colab": {
          "base_uri": "https://localhost:8080/"
        },
        "id": "dENj5fQ-1dXP",
        "outputId": "1d74c62d-e2f0-4757-8e42-49f9107f6275"
      },
      "outputs": [
        {
          "output_type": "stream",
          "name": "stdout",
          "text": [
            "Generating public/private rsa key pair.\n",
            "Enter file in which to save the key (/root/.ssh/id_rsa): \n",
            "Created directory '/root/.ssh'.\n",
            "Enter passphrase (empty for no passphrase): \n",
            "Enter same passphrase again: \n",
            "Your identification has been saved in /root/.ssh/id_rsa.\n",
            "Your public key has been saved in /root/.ssh/id_rsa.pub.\n",
            "The key fingerprint is:\n",
            "SHA256:PQgsHelrMqNizR+FO1JcQsUgNtXlz/KNVIcDm3kwht0 root@4a7693b4b07c\n",
            "The key's randomart image is:\n",
            "+---[RSA 4096]----+\n",
            "|   +.+*o..o=.    |\n",
            "|  . +o.+....BE.  |\n",
            "|    .o+. . + = . |\n",
            "|    ..=. oo o o  |\n",
            "|     + oS.o+     |\n",
            "|    = =   +.o    |\n",
            "|  oo O     o .   |\n",
            "|...o. o          |\n",
            "|..  ..           |\n",
            "+----[SHA256]-----+\n",
            "# github.com:22 SSH-2.0-babeld-5e2005f4\n",
            "ssh-rsa AAAAB3NzaC1yc2EAAAADAQABAAACAQDHznc4DA+fqX/LXFcKutYyiqbgXjJZgis7b95qPk8921NxTG0RzUhI5Jct2KORRRsZ4MemHDbGAQkifkyES/3cM+shrR9aal/K/Bk4uLIUI6oWBUb1oxSeBRD6psoenFO8ipkEDuTrqyqMoPGjdf01M3UMVPRmuh5sAypfVVUs7jGYU73cEZNb0I+ZljgfzdYjf2G7kI4n4xxV/anDoyWQFTegZKPNRfHepoCkDZ1wvOUF2CqIcN4zPKQpQSLS56Homl2NbLXZp3G96WeNqyqT5HsBrvGWa/tnltyAZc+Mp9VYdV2zb9KcOuh+X35g7sNeR16GVvFVtiSFsO/KK1ID3wOgLjTrY9u4w4f6mHDBh2k68bnmuj8VzJ+67DUNifgbzzU5LsGnhQF8GkdCVx4SZ41ZMRBdC3089GU/RwGNrhO9bu/1eI6QWX335szjA0QQXnt0kv430hj9PzCMk4Z9vtR7v2Z7XHNZ1ZUyEJ0tXJJubE8stWHo1u+kGbE2BeqYPrt6ySxj/5SNGjofs/fTpO3oANMbBpcuGfLc2/K/SqUed2tz3c/riGHFKjwLR44cOxyoUCJFbkVGi8VOdlasOYdEth13LMx+RHGM4UAdUEu/0B2QbmEcBRxDYD5URIyz5q6rUc0+C/CKCIuj9nQZsDt9fUm2yHTGGdqaeCYibQ== root@4a7693b4b07c\n"
          ]
        }
      ],
      "source": [
        "!ssh-keygen -t rsa -b 4096\n",
        "!ssh-keyscan -t rsa github.com >> ~/.ssh/known_hosts\n",
        "!cat /root/.ssh/id_rsa.pub"
      ]
    },
    {
      "cell_type": "code",
      "execution_count": null,
      "metadata": {
        "id": "7MhP57Yq1-V5"
      },
      "outputs": [],
      "source": [
        "!git config --global user.email \"arman.nikkhah.79@gmail.com\"\n",
        "!git config --global user.name \"Arman N\""
      ]
    },
    {
      "cell_type": "code",
      "execution_count": null,
      "metadata": {
        "colab": {
          "base_uri": "https://localhost:8080/"
        },
        "id": "HXBxBksP2GSc",
        "outputId": "2573ab61-c488-40bb-cbb8-39f3de4c9268"
      },
      "outputs": [
        {
          "output_type": "stream",
          "name": "stdout",
          "text": [
            "Cloning into 'ParsParaphraser'...\n",
            "Warning: Permanently added the RSA host key for IP address '140.82.113.3' to the list of known hosts.\n",
            "remote: Enumerating objects: 3, done.\u001b[K\n",
            "remote: Counting objects: 100% (3/3), done.\u001b[K\n",
            "remote: Total 3 (delta 0), reused 0 (delta 0), pack-reused 0\u001b[K\n",
            "Receiving objects: 100% (3/3), done.\n"
          ]
        }
      ],
      "source": [
        "!git clone git@github.com:IamArmanNikkhah/ParsParaphraser.git"
      ]
    },
    {
      "cell_type": "code",
      "source": [
        "!cp '/content/drive/MyDrive/ParsParaphraser/para-nmt-train.csv' '/content/ParsParaphraser'"
      ],
      "metadata": {
        "id": "qhOR84Uogchg"
      },
      "execution_count": null,
      "outputs": []
    },
    {
      "cell_type": "code",
      "execution_count": null,
      "metadata": {
        "id": "6tvLEiSY2wOb",
        "colab": {
          "base_uri": "https://localhost:8080/"
        },
        "outputId": "99bf34d1-308f-4508-8074-2be43c9650d8"
      },
      "outputs": [
        {
          "output_type": "stream",
          "name": "stdout",
          "text": [
            "/content/ParsParaphraser\n"
          ]
        }
      ],
      "source": [
        "%cd '/content/ParsParaphraser'"
      ]
    },
    {
      "cell_type": "code",
      "execution_count": null,
      "metadata": {
        "id": "lHWAOI2c24FZ"
      },
      "outputs": [],
      "source": [
        "!git add ."
      ]
    },
    {
      "cell_type": "code",
      "execution_count": null,
      "metadata": {
        "colab": {
          "base_uri": "https://localhost:8080/"
        },
        "id": "17WKbz3PB9pl",
        "outputId": "136034be-7353-4dff-d983-5642221270ea"
      },
      "outputs": [
        {
          "output_type": "stream",
          "name": "stdout",
          "text": [
            "On branch main\n",
            "Your branch is up to date with 'origin/main'.\n",
            "\n",
            "Changes to be committed:\n",
            "  (use \"git reset HEAD <file>...\" to unstage)\n",
            "\n",
            "\t\u001b[32mnew file:   para-nmt-train.csv\u001b[m\n",
            "\n"
          ]
        }
      ],
      "source": [
        "!git status"
      ]
    },
    {
      "cell_type": "code",
      "execution_count": null,
      "metadata": {
        "colab": {
          "base_uri": "https://localhost:8080/"
        },
        "id": "Zwx0lj4bCGhJ",
        "outputId": "41a3f4aa-503c-4201-fe17-c3737e9f3083"
      },
      "outputs": [
        {
          "output_type": "stream",
          "name": "stdout",
          "text": [
            "[main 4f82191] Add existing file\n",
            " 1 file changed, 0 insertions(+), 0 deletions(-)\n",
            " create mode 100644 para-nmt-train.csv\n"
          ]
        }
      ],
      "source": [
        "!git commit -m \"Add existing file\""
      ]
    },
    {
      "cell_type": "code",
      "execution_count": null,
      "metadata": {
        "id": "UmnVqKKmCWm6"
      },
      "outputs": [],
      "source": [
        "!git push origin main"
      ]
    }
  ],
  "metadata": {
    "colab": {
      "collapsed_sections": [
        "ADaJGQIa0e3Y"
      ],
      "name": "ParsParaphraser-Dataset.ipynb",
      "provenance": [],
      "authorship_tag": "ABX9TyNxe0MxTrdj5kTfN3deQmst",
      "include_colab_link": true
    },
    "kernelspec": {
      "display_name": "Python 3",
      "name": "python3"
    },
    "language_info": {
      "name": "python"
    }
  },
  "nbformat": 4,
  "nbformat_minor": 0
}